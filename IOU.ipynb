{
  "nbformat": 4,
  "nbformat_minor": 0,
  "metadata": {
    "colab": {
      "name": "IOU.ipynb",
      "provenance": [],
      "collapsed_sections": [],
      "toc_visible": true
    },
    "kernelspec": {
      "name": "python3",
      "display_name": "Python 3"
    },
    "accelerator": "GPU"
  },
  "cells": [
    {
      "cell_type": "code",
      "metadata": {
        "id": "I94EtfqZwF7y"
      },
      "source": [
        "# install dependencies: \n",
        "!pip install pyyaml==5.1\n",
        "import torch, torchvision\n",
        "print(torch.__version__, torch.cuda.is_available())\n",
        "!gcc --version\n",
        "# opencv is pre-installed on colab\n",
        "\n",
        "from random import random\n",
        "\n",
        "# install detectron2: (Colab has CUDA 10.1 + torch 1.7)\n",
        "# See https://detectron2.readthedocs.io/tutorials/install.html for instructions\n",
        "import torch\n",
        "assert torch.__version__.startswith(\"1.7\")\n",
        "!pip install detectron2 -f https://dl.fbaipublicfiles.com/detectron2/wheels/cu101/torch1.7/index.html\n",
        "\n",
        "import cv2\n",
        "import numpy as np\n",
        "import json\n",
        "from google.colab.patches import cv2_imshow"
      ],
      "execution_count": null,
      "outputs": []
    },
    {
      "cell_type": "code",
      "metadata": {
        "id": "7ZgiEPiMxFA4"
      },
      "source": [
        "# Some basic setup:\n",
        "# Setup detectron2 logger\n",
        "import detectron2\n",
        "from detectron2.utils.logger import setup_logger\n",
        "setup_logger()\n",
        "\n",
        "# import some common libraries\n",
        "import numpy as np\n",
        "import os, json, cv2, random\n",
        "from google.colab.patches import cv2_imshow\n",
        "from PIL import Image\n",
        "from skimage.color import gray2rgb\n",
        "\n",
        "\n",
        "# import some common detectron2 utilities\n",
        "from detectron2 import model_zoo\n",
        "from detectron2.engine import DefaultPredictor\n",
        "from detectron2.config import get_cfg\n",
        "from detectron2.utils.visualizer import Visualizer\n",
        "from detectron2.data import MetadataCatalog, DatasetCatalog"
      ],
      "execution_count": null,
      "outputs": []
    },
    {
      "cell_type": "code",
      "metadata": {
        "id": "DEl1hSP0xGkz"
      },
      "source": [
        "!mkdir pics\n",
        "!mkdir jsonFiles"
      ],
      "execution_count": null,
      "outputs": []
    },
    {
      "cell_type": "code",
      "metadata": {
        "id": "pWfVwNu7xdxc"
      },
      "source": [
        "with open(\"all_configs.txt\") as cfgFile:\n",
        "  all_configs = cfgFile.readlines()\n",
        "\n",
        "all_configs = [x.strip() for x in all_configs]\n",
        "#print(all_configs)"
      ],
      "execution_count": 4,
      "outputs": []
    },
    {
      "cell_type": "code",
      "metadata": {
        "id": "S9B84MU46c4y"
      },
      "source": [
        "with open(\"./testJson.json\") as jsonFile:\n",
        "  jsonBBox = json.load(jsonFile)['1']\n",
        "\n",
        "#print(json.dumps(jsonBBox, indent=2))\n",
        "new_json = jsonBBox"
      ],
      "execution_count": 5,
      "outputs": []
    },
    {
      "cell_type": "code",
      "metadata": {
        "id": "QSU8AG7w-pqy"
      },
      "source": [
        "def calculateIOU(boxA, boxB):\n",
        "  # determine the (x, y)-coordinates of the intersection rectangle\n",
        "  \n",
        "  xA = max(boxA[0], boxB[0])\n",
        "  yA = max(boxA[1], boxB[1])\n",
        "  xB = min(boxA[2], boxB[2])\n",
        "  yB = min(boxA[3], boxB[3])\n",
        "  # compute the area of intersection rectangle\n",
        "  interArea = max(0, xB - xA + 1) * max(0, yB - yA + 1)\n",
        "  # compute the area of both the prediction and ground-truth\n",
        "  # rectangles\n",
        "  boxAArea = (boxA[2] - boxA[0] + 1) * (boxA[3] - boxA[1] + 1)\n",
        "  boxBArea = (boxB[2] - boxB[0] + 1) * (boxB[3] - boxB[1] + 1)\n",
        "  # compute the intersection over union by taking the intersection\n",
        "  # area and dividing it by the sum of prediction + ground-truth\n",
        "  # areas - the interesection area\n",
        "  iou = interArea / float(boxAArea + boxBArea - interArea)\n",
        "  # return the intersection over union value\n",
        "  return iou"
      ],
      "execution_count": 6,
      "outputs": []
    },
    {
      "cell_type": "code",
      "metadata": {
        "id": "NmXc7pY-2yGl"
      },
      "source": [
        "#for fileName in listdir(picsFolder):\n",
        "#  im = cv2.imread(picsFolder + fileName)\n",
        "#  outputs = predictor(im)\n",
        "#  v = Visualizer(im[:, :, ::-1], MetadataCatalog.get(cfg.DATASETS.TRAIN[0]), scale=1.2)\n",
        "#  out = v.draw_instance_predictions(outputs[\"instances\"].to(\"cpu\"))\n",
        "#  cv2.imwrite(outputFolder + fileName, out.get_image()[:, :, ::-1])\n",
        "\n",
        "for cfgLine in all_configs:\n",
        "  try:\n",
        "    cfg = get_cfg()\n",
        "    cfg.merge_from_file(model_zoo.get_config_file(cfgLine))\n",
        "    cfg.MODEL.ROI_HEADS.SCORE_THRESH_TEST = 0.5  # set threshold for this model\n",
        "    cfg.MODEL.WEIGHTS = model_zoo.get_checkpoint_url(cfgLine)\n",
        "\n",
        "\n",
        "    predictor = DefaultPredictor(cfg)\n",
        "    im = cv2.imread('./1.jpg')\n",
        "    outputs = predictor(im)\n",
        "\n",
        "    for i in range(len(outputs[\"instances\"].pred_boxes)):\n",
        "      bx = outputs[\"instances\"].pred_boxes[i]\n",
        "      boxA = bx.tensor.cpu().numpy().flatten()\n",
        "      maxIOU = 0\n",
        "      id = -1\n",
        "      for objBBox in jsonBBox[\"objects\"]:\n",
        "        tempObj = jsonBBox[\"objects\"][str(objBBox)]\n",
        "        start_x = tempObj[\"x\"]\n",
        "        start_y = tempObj[\"y\"]\n",
        "        w = tempObj[\"w\"]\n",
        "        h = tempObj[\"h\"]\n",
        "        end_x = start_x + w\n",
        "        end_y = start_y + h\n",
        "\n",
        "        #boxB = [tempObj['xStart'], tempObj['yStart'], tempObj['xEnd'], tempObj['yEnd']]\n",
        "        boxB = [start_x, start_y, end_x, end_y]\n",
        "        ret = calculateIOU(boxA, boxB)\n",
        "        if ret > maxIOU:\n",
        "          id = objBBox\n",
        "          maxIOU = ret\n",
        "\n",
        "      # Threshold set for 0.5\n",
        "      if maxIOU >= 0.5:\n",
        "        if \"iou\" in new_json[\"objects\"][str(id)]:\n",
        "          if maxIOU > new_json[\"objects\"][str(id)][\"iou\"]:\n",
        "            new_json[\"objects\"][str(id)][\"iou\"] = maxIOU\n",
        "            new_json[\"objects\"][str(id)][\"masks\"] = outputs[\"instances\"].pred_masks[i].cpu().numpy().tolist()\n",
        "            new_json[\"objects\"][str(id)][\"bbox\"] = boxA.tolist()\n",
        "        else:\n",
        "          new_json[\"objects\"][str(id)][\"iou\"] = maxIOU\n",
        "          new_json[\"objects\"][str(id)][\"mask\"] = outputs[\"instances\"].pred_masks[i].cpu().numpy().tolist()\n",
        "          new_json[\"objects\"][str(id)][\"bbox\"] = boxA.tolist()\n",
        "  except:\n",
        "        print(\"error with cfg: \", cfgLine)\n",
        "\n",
        "image = cv2.imread(\"./1.jpg\")\n",
        "\n",
        "for obj in new_json[\"objects\"]:\n",
        "  if \"bbox\" in new_json[\"objects\"][obj]:\n",
        "    bbox = new_json[\"objects\"][obj][\"bbox\"]\n",
        "\n",
        "    color = color = 1 - np.random.choice(range(256), size=3)\n",
        "    cv2.rectangle(image, (int(bbox[0]), int(bbox[1])), (int(bbox[2]), int(bbox[3])), color, 1)\n",
        "\n",
        "    arr = new_json[\"objects\"][str(obj)][\"mask\"]\n",
        "    maskArr = np.array(arr, dtype=np.uint8) * 255\n",
        "    maskImg = Image.fromarray(maskArr, mode='L')\n",
        "    maskImg.save(f\"./{str(obj)}.jpg\")\n",
        "    maskImg = cv2.imread(f\"./{str(obj)}.jpg\")\n",
        "    maskColored = cv2.bitwise_and(image.astype(float), maskImg.astype(float)).astype(float)\n",
        "    mask = maskImg * maskColored\n",
        "    mask = cv2.bitwise_and(mask, color)\n",
        "    image = cv2.addWeighted(image.astype(float), 1, mask.astype(float), 1.5, 0)\n",
        "\n",
        "# cv2.putText(image,name, start_point, cv2.FONT_HERSHEY_SIMPLEX, 0.5, color)\n",
        "# print(outputs[\"instances\"].pred_masks[0].size())\n",
        "# v = Visualizer(im[:, :, ::-1], MetadataCatalog.get(cfg.DATASETS.TRAIN[0]), scale=1.2)\n",
        "# out = v.draw_instance_predictions(outputs[\"instances\"].to(\"cpu\"))\n",
        "# cv2_imshow(out.get_image()[:, :, ::-1])\n",
        "# cv2.imwrite(outputFolder + fileName, out.get_image()[:, :, ::-1])"
      ],
      "execution_count": 20,
      "outputs": []
    },
    {
      "cell_type": "code",
      "metadata": {
        "colab": {
          "base_uri": "https://localhost:8080/"
        },
        "id": "IrUsT4Dv2HEX",
        "outputId": "68a3f888-3eb1-49c4-a9f3-97f49b7eda6e"
      },
      "source": [
        "cv2.imwrite(\"./out1.jpg\", image)"
      ],
      "execution_count": 19,
      "outputs": [
        {
          "output_type": "execute_result",
          "data": {
            "text/plain": [
              "True"
            ]
          },
          "metadata": {
            "tags": []
          },
          "execution_count": 19
        }
      ]
    },
    {
      "cell_type": "code",
      "metadata": {
        "id": "3J_oA0s-Kj69"
      },
      "source": [
        "with open(\"new_json.json\", \"w\") as new_json_file:\n",
        "    json.dump(new_json, new_json_file)"
      ],
      "execution_count": 21,
      "outputs": []
    }
  ]
}